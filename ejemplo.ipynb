{
 "cells": [
  {
   "cell_type": "code",
   "execution_count": 21,
   "id": "667b32f9",
   "metadata": {},
   "outputs": [],
   "source": [
    "import requests\n",
    "import pyodbc as db\n",
    "import os\n",
    "import time\n",
    "\n",
    "api_key = '3aa6712010d64ae6a03f02d61f23bf77' #Esta clave se genera al crear un usuario "
   ]
  },
  {
   "cell_type": "code",
   "execution_count": 56,
   "id": "eadee1d3",
   "metadata": {},
   "outputs": [],
   "source": [
    "def get_connection():\n",
    "   # Conexión a la base de datos\n",
    "   return db.connect(\n",
    "                    f\"Driver={{ODBC Driver 17 for SQL Server}};\"\n",
    "                    f\"Server={os.getenv('DB_SERVER')};\"\n",
    "                    f\"Database={os.getenv('DB_NAME')};\"\n",
    "                    f\"UID={os.getenv('DB_USER')};\"\n",
    "                    f\"PWD={os.getenv('DB_PASS')};\"\n",
    "                    \"Trusted_Connection=no;\"\n",
    "                    \"Integrated_Security=false;\"\n",
    "                    )"
   ]
  },
  {
   "cell_type": "code",
   "execution_count": 57,
   "id": "3ad2828b",
   "metadata": {},
   "outputs": [],
   "source": [
    "def get_location (conn):\n",
    "    cursor = conn.cursor()\n",
    "    cursor.execute(\"SELECT distinct location from Timezones\")\n",
    "    location = [row[0] for row in cursor.fetchall()]\n",
    "    \n",
    "    location = [x for x in location if x is not None]  #Este paso está aqui sólo para eliminar nulos si los hubiese\n",
    "    return location"
   ]
  },
  {
   "cell_type": "code",
   "execution_count": null,
   "id": "dd88c092",
   "metadata": {},
   "outputs": [],
   "source": [
    "def update_utc_offset (conn, locations):\n",
    "    cursor = conn.cursor()\n",
    "\n",
    "    for location in locations:\n",
    "        try:\n",
    "            response = requests.get(f\"https://timezone.abstractapi.com/v1/current_time/?api_key={api_key}&location={location}\")\n",
    "            result = response.json()\n",
    "            utc_diff = result[\"gmt_offset\"]\n",
    "            \n",
    "            actual_dif = cursor.execute(f\"SELECT dif from Timezones where location = '{location}'\")\n",
    "            actual_dif = actual_dif.fetchone()[0]\n",
    "\n",
    "            if actual_dif != utc_diff:\n",
    "                cursor.execute(f''' UPDATE Timezones\n",
    "                                    SET dif = {utc_diff}\n",
    "                                    WHERE location = '{location}'\n",
    "                                ''')\n",
    "                \n",
    "                cursor.commit()\n",
    "                print(f'''Se ha actualizado el offset_UTC para los partner con location: {location}.\n",
    "                          offset_UTC anterior: {actual_dif} \n",
    "                          offset_UTC nuevo: {utc_diff} \n",
    "                      ''')\n",
    "                time.sleep(1)  # Espera 1 segundo para asegurar no incumplir con las normas de la api de 1 solicitud x segundo máx.\n",
    "\n",
    "        except Exception as e:\n",
    "            print (f\"\"\"Error al intentar actualizar el offset UTC de la timezone: {location}.\n",
    "                       Type Error: {e}\"\"\")\n",
    "    \n",
    "    cursor.close()"
   ]
  },
  {
   "cell_type": "code",
   "execution_count": null,
   "id": "0405a127",
   "metadata": {},
   "outputs": [],
   "source": [
    "connect = get_connection()\n",
    "locations = get_location (connect)"
   ]
  },
  {
   "cell_type": "code",
   "execution_count": 75,
   "id": "ca60fdf5",
   "metadata": {},
   "outputs": [
    {
     "name": "stdout",
     "output_type": "stream",
     "text": [
      "location: Asuncion, Paraguay, actual_dif: -4, utc_diff: -4\n",
      "location: Bogota, Colombia, actual_dif: -5, utc_diff: -5\n",
      "location: Buenos Aires, Argentina, actual_dif: -3, utc_diff: -3\n",
      "location: Costa_Rica, Costa Rica, actual_dif: -6, utc_diff: -6\n",
      "location: El_Salvador, El Salvador, actual_dif: -22, utc_diff: -6\n",
      "Se ha actualizado el offset_UTC para los partner con location: El_Salvador, El Salvador.\n",
      "                          offset_UTC anterior: -22 \n",
      "                          offset_UTC nuevo: -6 \n",
      "                      \n",
      "location: Guatemala, Guatemala, actual_dif: -6, utc_diff: -6\n",
      "location: Guayaquil, Ecuador, actual_dif: -5, utc_diff: -5\n",
      "location: La_Paz, Bolivia, actual_dif: -4, utc_diff: -4\n",
      "location: Lima, Peru, actual_dif: -5, utc_diff: -5\n",
      "location: Managua, Nicaragua, actual_dif: -6, utc_diff: -6\n",
      "location: Mexico_city, Mexico, actual_dif: -6, utc_diff: -6\n",
      "location: Panama, Panama, actual_dif: -5, utc_diff: -5\n",
      "location: Santiago, Chile, actual_dif: -4, utc_diff: -4\n",
      "location: Santo_Domingo, Republica Dominicana, actual_dif: -4, utc_diff: -4\n",
      "location: Tegucigalpa, Honduras, actual_dif: -6, utc_diff: -6\n"
     ]
    }
   ],
   "source": [
    "update_utc_offset (connect, locations)"
   ]
  },
  {
   "cell_type": "code",
   "execution_count": 76,
   "id": "17e26eea",
   "metadata": {},
   "outputs": [],
   "source": [
    "connect.close()"
   ]
  }
 ],
 "metadata": {
  "kernelspec": {
   "display_name": "Python 3",
   "language": "python",
   "name": "python3"
  },
  "language_info": {
   "codemirror_mode": {
    "name": "ipython",
    "version": 3
   },
   "file_extension": ".py",
   "mimetype": "text/x-python",
   "name": "python",
   "nbconvert_exporter": "python",
   "pygments_lexer": "ipython3",
   "version": "3.13.2"
  }
 },
 "nbformat": 4,
 "nbformat_minor": 5
}
